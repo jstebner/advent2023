{
 "cells": [
  {
   "cell_type": "code",
   "execution_count": 61,
   "metadata": {},
   "outputs": [],
   "source": [
    "import re\n",
    "src = open('input.txt').read()\n",
    "# src = \"\"\"467..114..\n",
    "# ...*......\n",
    "# ..35..633.\n",
    "# ......#...\n",
    "# 617*......\n",
    "# .....+.58.\n",
    "# ..592.....\n",
    "# ......755.\n",
    "# ...$.*....\n",
    "# .664.598..\"\"\"\n",
    "# print(src)\n",
    "data = re.sub(r'[^\\d\\.\\n]', '#', src).split()\n",
    "\n",
    "HEIGHT = len(data)\n",
    "WIDTH  = len(data[0])"
   ]
  },
  {
   "cell_type": "code",
   "execution_count": 46,
   "metadata": {},
   "outputs": [
    {
     "name": "stdout",
     "output_type": "stream",
     "text": [
      "539433\n"
     ]
    }
   ],
   "source": [
    "def val(r:int, c_s:int):\n",
    "    c_e = c_s\n",
    "    while c_e+1 != WIDTH and data[r][c_e+1].isdigit():\n",
    "        c_e += 1\n",
    "\n",
    "    rb_s = r if r == 0 else r-1\n",
    "    rb_e = r if r == HEIGHT-1 else r+1\n",
    "    cb_s = c_s if c_s == 0 else c_s-1\n",
    "    cb_e = c_e if c_e == WIDTH-1 else c_e+1\n",
    "    # print(data[rb_s][cb_s:cb_e+1])\n",
    "    # print(data[r][cb_s:cb_e+1])\n",
    "    # print(data[rb_e][cb_s:cb_e+1])\n",
    "    if '#' in data[rb_s][cb_s:cb_e+1] + data[r][cb_s] + data[r][cb_e] + data[rb_e][cb_s:cb_e+1]:\n",
    "        return int(data[r][c_s:c_e+1])\n",
    "    return 0\n",
    "    \n",
    "\n",
    "total = 0\n",
    "for r in range(len(data)):\n",
    "    for c in range(len(data[r])):\n",
    "        if data[r][c].isdigit() and (c == 0 or not data[r][c-1].isdigit()):\n",
    "            total += val(r,c)\n",
    "print(total)"
   ]
  },
  {
   "cell_type": "code",
   "execution_count": 62,
   "metadata": {},
   "outputs": [
    {
     "name": "stdout",
     "output_type": "stream",
     "text": [
      "75847567\n"
     ]
    }
   ],
   "source": [
    "data = re.sub(r'[^\\d\\.\\n\\*]', '#', src).split()\n",
    "\n",
    "def is_adj(r, c_s, rt, ct):\n",
    "    c_e = c_s\n",
    "    while c_e+1 != WIDTH and data[r][c_e+1].isdigit():\n",
    "        c_e += 1\n",
    "    rb_s = r if r == 0 else r-1\n",
    "    rb_e = r if r == HEIGHT-1 else r+1\n",
    "    cb_s = c_s if c_s == 0 else c_s-1\n",
    "    cb_e = c_e if c_e == WIDTH-1 else c_e+1\n",
    "    if rt in range(rb_s, rb_e+1) and ct in range(cb_s, cb_e+1):\n",
    "        # print(data[rb_s][cb_s:cb_e+1])\n",
    "        # print(data[r][cb_s:cb_e+1])\n",
    "        # print(data[rb_e][cb_s:cb_e+1])\n",
    "        return int(data[r][c_s:c_e+1])\n",
    "\n",
    "    return 0\n",
    "\n",
    "def ratio(r, c):\n",
    "    rb_s = r if r == 0 else r-1\n",
    "    rb_e = r if r == HEIGHT-1 else r+1\n",
    "    # print(data[rb_s])\n",
    "    # print(data[r])\n",
    "    # print(data[rb_e])\n",
    "\n",
    "    adj_nums = list()\n",
    "    for y in range(len(data)):\n",
    "        for x in range(len(data[r])):\n",
    "            if data[y][x].isdigit() and (x==0 or not data[y][x-1].isdigit()):\n",
    "                # found a candidate number\n",
    "                val = is_adj(y, x, r, c)\n",
    "                if val != 0:\n",
    "                    adj_nums.append(val)\n",
    "\n",
    "    if len(adj_nums) == 2:\n",
    "        return adj_nums[0] * adj_nums[1]\n",
    "    return 0\n",
    "\n",
    "total = 0\n",
    "for r in range(len(data)):\n",
    "    for c in range(len(data[r])):\n",
    "        if data[r][c] == '*':\n",
    "            # print(r,c)\n",
    "            total += ratio(r,c)\n",
    "print(total)"
   ]
  }
 ],
 "metadata": {
  "kernelspec": {
   "display_name": "Python 3",
   "language": "python",
   "name": "python3"
  },
  "language_info": {
   "codemirror_mode": {
    "name": "ipython",
    "version": 3
   },
   "file_extension": ".py",
   "mimetype": "text/x-python",
   "name": "python",
   "nbconvert_exporter": "python",
   "pygments_lexer": "ipython3",
   "version": "3.11.0"
  }
 },
 "nbformat": 4,
 "nbformat_minor": 2
}
