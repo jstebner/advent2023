{
 "cells": [
  {
   "cell_type": "code",
   "execution_count": 2,
   "metadata": {},
   "outputs": [
    {
     "name": "stdout",
     "output_type": "stream",
     "text": [
      "55108\n"
     ]
    }
   ],
   "source": [
    "import re\n",
    "\n",
    "tot = 0\n",
    "with open('input.txt') as w:\n",
    "    for line in w.readlines():\n",
    "        d = re.findall(r'\\d', line)\n",
    "        tot += int(f'{d[0]}{d[-1]}')\n",
    "print(tot)"
   ]
  },
  {
   "cell_type": "code",
   "execution_count": 72,
   "metadata": {},
   "outputs": [
    {
     "name": "stdout",
     "output_type": "stream",
     "text": [
      "56324\n"
     ]
    }
   ],
   "source": [
    "transl = {\n",
    "    'one' : 'o1e', \n",
    "    'two' : 't2o', \n",
    "    'three' : 't3e', \n",
    "    'four' : 'f4r', \n",
    "    'five' : 'f5e', \n",
    "    'six' : 's6x', \n",
    "    'seven' : 's7n', \n",
    "    'eight' : 'e8t', \n",
    "    'nine' : 'n9e'\n",
    "}\n",
    "tot = 0\n",
    "with open('input.txt') as w:\n",
    "    for line in w.readlines():\n",
    "        line = line.strip()\n",
    "        # what the fuck\n",
    "        for i in range(len(line)):\n",
    "            for word, num in transl.items():\n",
    "                if line[i:].startswith(word):\n",
    "                    line = line.replace(word, num, 1)\n",
    "                    break\n",
    "            else:\n",
    "                continue\n",
    "            break\n",
    "        for i in range(len(line), -1, -1):\n",
    "            for word, num in transl.items():\n",
    "                if line[:i].endswith(word):\n",
    "                    line = num.join(line.rsplit(word, 1))\n",
    "                    break\n",
    "            else:\n",
    "                continue\n",
    "            break\n",
    "        d = re.findall(r'\\d', line)\n",
    "        tot += int(f'{d[0]}{d[-1]}')\n",
    "print(tot)"
   ]
  }
 ],
 "metadata": {
  "kernelspec": {
   "display_name": "Python 3",
   "language": "python",
   "name": "python3"
  },
  "language_info": {
   "codemirror_mode": {
    "name": "ipython",
    "version": 3
   },
   "file_extension": ".py",
   "mimetype": "text/x-python",
   "name": "python",
   "nbconvert_exporter": "python",
   "pygments_lexer": "ipython3",
   "version": "3.11.0"
  }
 },
 "nbformat": 4,
 "nbformat_minor": 2
}
