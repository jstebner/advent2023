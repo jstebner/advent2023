{
 "cells": [
  {
   "cell_type": "code",
   "execution_count": 6,
   "metadata": {},
   "outputs": [
    {
     "name": "stdout",
     "output_type": "stream",
     "text": [
      "54708\n"
     ]
    }
   ],
   "source": [
    "# init total [int]\n",
    "# for each line in doc\n",
    "#   get all digits\n",
    "#   make int from first and last digits\n",
    "#   add cal to running total\n",
    "# ret total\n",
    "import re\n",
    "\n",
    "total: int = 0\n",
    "with open('input.txt') as w:\n",
    "    for cal in w.readlines():\n",
    "        cal = cal.strip()\n",
    "        dgt = re.findall(r'\\d', cal)\n",
    "        \n",
    "        val = int(dgt[0]+dgt[-1])\n",
    "        total += val\n",
    "print(total)\n",
    "    "
   ]
  },
  {
   "cell_type": "code",
   "execution_count": 7,
   "metadata": {},
   "outputs": [
    {
     "name": "stdout",
     "output_type": "stream",
     "text": [
      "54087\n"
     ]
    }
   ],
   "source": [
    "# init total [int]\n",
    "# for each line in doc\n",
    "#   preproc to replace text with digits\n",
    "#   get all digits\n",
    "#   make int from first and last digits\n",
    "#   add cal to running total\n",
    "# ret total\n",
    "\n",
    "translate = {\n",
    "    'one' : 'o1e', \n",
    "    'two' : 't2o', \n",
    "    'three' : 't3e', \n",
    "    'four' : 'f4r', \n",
    "    'five' : 'f5e', \n",
    "    'six' : 's6x', \n",
    "    'seven' : 's7n', \n",
    "    'eight' : 'e8t', \n",
    "    'nine' : 'n9e'\n",
    "}\n",
    "\n",
    "import re\n",
    "\n",
    "total: int = 0\n",
    "with open('input.txt') as w:\n",
    "    for cal in w.readlines():\n",
    "        cal = cal.strip()\n",
    "        for word, num in translate.items():\n",
    "            cal = cal.replace(word, num)\n",
    "        dgt = re.findall(r'\\d', cal)\n",
    "        \n",
    "        val = int(dgt[0]+dgt[-1])\n",
    "        total += val\n",
    "print(total)"
   ]
  }
 ],
 "metadata": {
  "kernelspec": {
   "display_name": "Python 3",
   "language": "python",
   "name": "python3"
  },
  "language_info": {
   "codemirror_mode": {
    "name": "ipython",
    "version": 3
   },
   "file_extension": ".py",
   "mimetype": "text/x-python",
   "name": "python",
   "nbconvert_exporter": "python",
   "pygments_lexer": "ipython3",
   "version": "3.11.0"
  }
 },
 "nbformat": 4,
 "nbformat_minor": 2
}
