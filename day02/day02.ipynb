{
 "cells": [
  {
   "cell_type": "code",
   "execution_count": 21,
   "metadata": {},
   "outputs": [],
   "source": [
    "data = list()\n",
    "# list[\n",
    "#   list[\n",
    "#       dict{red: X, green: X, blue: X}\n",
    "#   ]\n",
    "# ]\n",
    "with open('input.txt') as f:\n",
    "    for line in f.readlines():\n",
    "        game = list()\n",
    "        subsets = line.split(': ')[1].strip().split('; ')\n",
    "        for sub in subsets:\n",
    "            sub = sub.split(', ')\n",
    "            dpt = dict()\n",
    "            for cube in sub:\n",
    "                num, color = cube.split()\n",
    "                num = int(num)\n",
    "                dpt[color] = num\n",
    "            game.append(dpt)\n",
    "        data.append(game)"
   ]
  },
  {
   "cell_type": "code",
   "execution_count": 22,
   "metadata": {},
   "outputs": [
    {
     "name": "stdout",
     "output_type": "stream",
     "text": [
      "2278\n"
     ]
    }
   ],
   "source": [
    "ub = {'red': 12, 'green': 13, 'blue': 14}\n",
    "\n",
    "total = 0\n",
    "for i, game in enumerate(data):\n",
    "    gid = i + 1\n",
    "    game_max = {'red': 0, 'green': 0, 'blue': 0}\n",
    "    for subset in game:\n",
    "        for color in subset:\n",
    "            game_max[color] = max(game_max[color], subset[color])\n",
    "    if all([game_max[c] <= ub[c] for c in ['red','green','blue']]):\n",
    "        total += gid\n",
    "print(total)"
   ]
  },
  {
   "cell_type": "code",
   "execution_count": 23,
   "metadata": {},
   "outputs": [
    {
     "name": "stdout",
     "output_type": "stream",
     "text": [
      "67953\n"
     ]
    }
   ],
   "source": [
    "total = 0\n",
    "for i, game in enumerate(data):\n",
    "    gid = i + 1\n",
    "    game_max = {'red': 0, 'green': 0, 'blue': 0}\n",
    "    for subset in game:\n",
    "        for color in subset:\n",
    "            game_max[color] = max(game_max[color], subset[color])\n",
    "    power = game_max['red'] * game_max['green'] * game_max['blue']\n",
    "    total += power\n",
    "print(total)"
   ]
  }
 ],
 "metadata": {
  "kernelspec": {
   "display_name": "Python 3",
   "language": "python",
   "name": "python3"
  },
  "language_info": {
   "codemirror_mode": {
    "name": "ipython",
    "version": 3
   },
   "file_extension": ".py",
   "mimetype": "text/x-python",
   "name": "python",
   "nbconvert_exporter": "python",
   "pygments_lexer": "ipython3",
   "version": "3.11.0"
  }
 },
 "nbformat": 4,
 "nbformat_minor": 2
}
