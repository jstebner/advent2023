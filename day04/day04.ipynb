{
 "cells": [
  {
   "cell_type": "code",
   "execution_count": 7,
   "metadata": {},
   "outputs": [
    {
     "name": "stdout",
     "output_type": "stream",
     "text": [
      "22488\n"
     ]
    }
   ],
   "source": [
    "pts = 0\n",
    "with open('input.txt') as f:\n",
    "    for line in f.readlines():\n",
    "        card = line.strip().split(':')[1].split('|')\n",
    "        win = set(card[0].strip().split())\n",
    "        nums = set(card[1].strip().split())\n",
    "        pts += int(2**(len(win.intersection(nums))-1))\n",
    "print(pts)"
   ]
  },
  {
   "cell_type": "code",
   "execution_count": 30,
   "metadata": {},
   "outputs": [
    {
     "name": "stdout",
     "output_type": "stream",
     "text": [
      "7013204\n"
     ]
    }
   ],
   "source": [
    "matches = list()\n",
    "with open('input.txt') as f:\n",
    "    for line in f.readlines():\n",
    "        card = line.strip().split(':')[1].split('|')\n",
    "        win = set(card[0].strip().split())\n",
    "        nums = set(card[1].strip().split())\n",
    "        matches.append(len(win.intersection(nums)))\n",
    "cards = [1 for _ in matches]\n",
    "for i, match in enumerate(matches):\n",
    "    for j in range(i+1, i+match+1):\n",
    "        cards[j] += cards[i]\n",
    "print(sum(cards))"
   ]
  }
 ],
 "metadata": {
  "kernelspec": {
   "display_name": "Python 3",
   "language": "python",
   "name": "python3"
  },
  "language_info": {
   "codemirror_mode": {
    "name": "ipython",
    "version": 3
   },
   "file_extension": ".py",
   "mimetype": "text/x-python",
   "name": "python",
   "nbconvert_exporter": "python",
   "pygments_lexer": "ipython3",
   "version": "3.11.0"
  }
 },
 "nbformat": 4,
 "nbformat_minor": 2
}
